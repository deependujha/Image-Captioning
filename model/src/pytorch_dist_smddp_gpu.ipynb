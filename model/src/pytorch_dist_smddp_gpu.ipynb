{
 "cells": [
  {
   "cell_type": "code",
   "execution_count": null,
   "metadata": {},
   "outputs": [],
   "source": [
    "import os\n",
    "import boto3\n",
    "import time\n",
    "import numpy as np\n",
    "import sagemaker\n",
    "\n",
    "sess = boto3.Session()\n",
    "sm = sess.client(\"sagemaker\")\n",
    "sagemaker_session = sagemaker.Session()\n",
    "role = sagemaker.get_execution_role()\n",
    "\n",
    "bucket_name = \"deependu-my-personal-projects\"\n",
    "jobs_folder = \"jobs\"\n",
    "dataset_folder = \"datasets\"\n",
    "project_directory = \"image-captioning-project\"  # 'dummy-image-captioning-dataset'"
   ]
  },
  {
   "cell_type": "code",
   "execution_count": null,
   "metadata": {},
   "outputs": [],
   "source": [
    "current_time = time.strftime(\"%Y-%m-%d-%H-%M-%S-%j\", time.gmtime())\n",
    "job_name = f'pytorch-smddp-dist-image-captioning-{current_time}'\n",
    "output_path = f\"s3://{bucket_name}/{project_directory}/{jobs_folder}\"\n",
    "\n",
    "hyperparameters = {\n",
    "    \"epochs\": 2,\n",
    "    \"lr\": 0.01,\n",
    "    \"batch-size\": 256,\n",
    "    \"backend\": \"smddp\",\n",
    "}"
   ]
  },
  {
   "cell_type": "code",
   "execution_count": null,
   "metadata": {},
   "outputs": [],
   "source": [
    "distribution = {\"smdistributed\": {\"dataparallel\": {\"enabled\": True}}}"
   ]
  },
  {
   "cell_type": "code",
   "execution_count": null,
   "metadata": {},
   "outputs": [],
   "source": [
    "from sagemaker.pytorch import PyTorch\n",
    "\n",
    "estimator = PyTorch(\n",
    "    entry_point=\"training_script.py\",\n",
    "    source_dir=\"code\",\n",
    "    output_path=output_path + \"/\",\n",
    "    code_location=output_path,\n",
    "    role=role,\n",
    "    instance_count=2,\n",
    "    instance_type=\"ml.p4d.24xlarge\",  # 'ml.p3.16xlarge', 'ml.p3dn.24xlarge', 'ml.p4d.24xlarge',\n",
    "    py_version=\"py310\",\n",
    "    framework_version=\"2.0.1\",\n",
    "    distribution=distribution,\n",
    "    hyperparameters=hyperparameters,\n",
    ")"
   ]
  },
  {
   "cell_type": "code",
   "execution_count": null,
   "metadata": {},
   "outputs": [],
   "source": [
    "datasets = (\n",
    "    f\"s3://{bucket_name}/{project_directory}/{dataset_folder}\"  # s3 location of dataset\n",
    ")\n",
    "datasets"
   ]
  },
  {
   "cell_type": "code",
   "execution_count": null,
   "metadata": {},
   "outputs": [],
   "source": [
    "estimator.fit({\"train\": datasets}, job_name=job_name, wait=True)"
   ]
  },
  {
   "cell_type": "markdown",
   "metadata": {},
   "source": [
    "---\n",
    "\n",
    "## deploy as endpoint"
   ]
  },
  {
   "cell_type": "code",
   "execution_count": null,
   "metadata": {},
   "outputs": [],
   "source": [
    "s3_trained_model_uri = \"s3://deependu-my-personal-projects/image-captioning-project/jobs/pytorch-smddp-dist-image-captioning-2024-03-16-08-33-01-076/output/model.tar.gz\"\n",
    "s3_trained_model_uri"
   ]
  },
  {
   "cell_type": "code",
   "execution_count": null,
   "metadata": {},
   "outputs": [],
   "source": [
    "import os\n",
    "import boto3\n",
    "import sagemaker\n",
    "from sagemaker.pytorch import PyTorchModel\n",
    "\n",
    "sess = boto3.Session()\n",
    "sm = sess.client(\"sagemaker\")\n",
    "sagemaker_session = sagemaker.Session()\n",
    "role = sagemaker.get_execution_role()\n",
    "\n",
    "model = PyTorchModel(\n",
    "    model_data=s3_trained_model_uri,\n",
    "    source_dir=\"code\",\n",
    "    entry_point=\"inference_script.py\",\n",
    "    role=role,\n",
    "    framework_version=\"2.0.1\",\n",
    "    py_version=\"py310\",\n",
    ")"
   ]
  },
  {
   "cell_type": "code",
   "execution_count": null,
   "metadata": {},
   "outputs": [],
   "source": [
    "predictor = model.deploy(initial_instance_count=1, instance_type=\"ml.p3.2xlarge\")"
   ]
  },
  {
   "cell_type": "markdown",
   "metadata": {},
   "source": [
    "---\n",
    "\n",
    "## now make api request to the endpoint using boto3 library (after serializing tensor inputs)"
   ]
  }
 ],
 "metadata": {
  "language_info": {
   "name": "python"
  }
 },
 "nbformat": 4,
 "nbformat_minor": 2
}
