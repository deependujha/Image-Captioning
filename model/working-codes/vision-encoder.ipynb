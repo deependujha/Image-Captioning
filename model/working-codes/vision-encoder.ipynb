{
 "cells": [
  {
   "cell_type": "code",
   "execution_count": 1,
   "metadata": {},
   "outputs": [],
   "source": [
    "import math\n",
    "import torch\n",
    "import torch.nn as nn"
   ]
  },
  {
   "cell_type": "code",
   "execution_count": 2,
   "metadata": {},
   "outputs": [],
   "source": [
    "my_random_image = torch.rand(1, 3, 224, 224)"
   ]
  },
  {
   "cell_type": "markdown",
   "metadata": {},
   "source": [
    "---\n",
    "\n",
    "## Positional Embedding"
   ]
  },
  {
   "cell_type": "code",
   "execution_count": 3,
   "metadata": {},
   "outputs": [],
   "source": [
    "# helper Module that adds positional encoding to the token embedding to introduce a notion of word order.\n",
    "class PositionalEncoding(nn.Module):\n",
    "    def __init__(self, emb_size: int, dropout: float = 0.0, maxlen: int = 5000):\n",
    "        if emb_size % 2 != 0:\n",
    "            raise Exception(\"Embedding size must be even\")\n",
    "        super(PositionalEncoding, self).__init__()\n",
    "\n",
    "        # fancy logarithmic stuff to finally calculate 10000^(-2i/emb_size)\n",
    "        den = torch.exp(-torch.arange(0, emb_size, 2) * math.log(10000) / emb_size)\n",
    "        pos = torch.arange(0, maxlen).reshape(maxlen, 1)\n",
    "        pos_embedding = torch.zeros((maxlen, emb_size))\n",
    "\n",
    "        pos_embedding[:, 0::2] = torch.sin(\n",
    "            pos * den\n",
    "        )  # from 0th index to last index with a step of 2\n",
    "        pos_embedding[:, 1::2] = torch.cos(\n",
    "            pos * den\n",
    "        )  # from 1st index to last index with a step of 2\n",
    "        # pos_embedding = pos_embedding.unsqueeze(0) # add a new dimension at the first index, we will use batch_first = True (handle batch dimension)\n",
    "\n",
    "        self.dropout = nn.Dropout(dropout)\n",
    "        self.register_buffer(\n",
    "            \"pos_embedding\", pos_embedding\n",
    "        )  # register the tensor as buffer - not updated during backprop\n",
    "\n",
    "    def forward(self, token_embedding):\n",
    "        # no learnable parameters\n",
    "        return self.dropout(token_embedding + self.pos_embedding)"
   ]
  },
  {
   "cell_type": "markdown",
   "metadata": {},
   "source": [
    "---\n",
    "\n",
    "## Patch Embedding"
   ]
  },
  {
   "cell_type": "code",
   "execution_count": 4,
   "metadata": {},
   "outputs": [],
   "source": [
    "class PatchEmbedding(nn.Module):\n",
    "    def __init__(self, embed_dim, patch_size, num_patches, dropout, in_channels):\n",
    "        super().__init__()\n",
    "        self.patcher = nn.Sequential(\n",
    "            nn.Conv2d(\n",
    "                in_channels=in_channels,\n",
    "                out_channels=embed_dim,\n",
    "                kernel_size=patch_size,\n",
    "                stride=patch_size,  # take each patch_size pixel\n",
    "            ),\n",
    "            nn.Flatten(2),  # flatten from the 2nd dimension to the end\n",
    "        )\n",
    "\n",
    "        # special classification token\n",
    "        self.special_classification_token = nn.Parameter(\n",
    "            torch.randn(size=(1, 1, embed_dim)), requires_grad=True\n",
    "        )\n",
    "\n",
    "        self.position_embeddings = PositionalEncoding(\n",
    "            emb_size=embed_dim, dropout=dropout, maxlen=num_patches + 1 # add the in_channels to the num_patches\n",
    "        )\n",
    "\n",
    "        self.dropout = nn.Dropout(p=dropout)\n",
    "\n",
    "    def forward(self, x):\n",
    "        cls_token = self.special_classification_token.expand(\n",
    "            x.shape[0], -1, -1\n",
    "        )  # (B, input_channel, E)\n",
    "        x = self.patcher(x).permute(0, 2, 1)\n",
    "        x = torch.cat([cls_token, x], dim=1)\n",
    "        x = self.position_embeddings(x)\n",
    "        x = self.dropout(x)\n",
    "        return x"
   ]
  },
  {
   "cell_type": "code",
   "execution_count": 5,
   "metadata": {},
   "outputs": [],
   "source": [
    "class ViTEncoder(nn.Module):\n",
    "    def __init__(\n",
    "        self,\n",
    "        num_patches,\n",
    "        image_size,\n",
    "        patch_size,\n",
    "        embed_dim,\n",
    "        num_encoders,\n",
    "        num_heads,\n",
    "        dropout,\n",
    "        activation,\n",
    "        in_channels,\n",
    "    ):\n",
    "        super().__init__()\n",
    "        self.embeddings_block = PatchEmbedding(\n",
    "            embed_dim, patch_size, num_patches, dropout, in_channels\n",
    "        )\n",
    "\n",
    "        encoder_layer = nn.TransformerEncoderLayer(\n",
    "            d_model=embed_dim,\n",
    "            nhead=num_heads,\n",
    "            dropout=dropout,\n",
    "            activation=activation,\n",
    "            batch_first=True,\n",
    "            norm_first=True,\n",
    "        )\n",
    "\n",
    "        self.encoder_blocks = nn.TransformerEncoder(\n",
    "            encoder_layer, num_layers=num_encoders\n",
    "        )\n",
    "\n",
    "\n",
    "    def forward(self, x):\n",
    "        x = self.embeddings_block(x)\n",
    "        x = self.encoder_blocks(x)\n",
    "        \n",
    "        # x is of shape (B, num_patches+1, embed_dim) \n",
    "        # x is now the contextually aware embedding representation of the image\n",
    "        return x"
   ]
  },
  {
   "cell_type": "markdown",
   "metadata": {},
   "source": [
    "---\n",
    "\n",
    "- We have image of size 224x224.\n",
    "- We divide the image into 16x16 patches.\n",
    "- Each patch is of size 14x14.\n",
    "- We flatten each patch to get a vector of size 196.\n"
   ]
  },
  {
   "cell_type": "code",
   "execution_count": 6,
   "metadata": {},
   "outputs": [],
   "source": [
    "# RANDOM_SEED = 42\n",
    "BATCH_SIZE = 10\n",
    "EPOCHS = 20\n",
    "\n",
    "LEARNING_RATE = 1e-3\n",
    "PATCH_SIZE = 16\n",
    "IMG_SIZE = 224\n",
    "IN_CHANNELS = 3\n",
    "NUM_HEADS = 8\n",
    "DROPOUT = 0.001\n",
    "ADAM_WEIGHT_DECAY = 0\n",
    "ADAM_BETAS = (0.9, 0.999)\n",
    "ACTIVATION = \"gelu\"\n",
    "NUM_ENCODERS = 4\n",
    "EMBED_DIM = (PATCH_SIZE**2) * IN_CHANNELS  # 768\n",
    "NUM_PATCHES = (IMG_SIZE // PATCH_SIZE) ** 2  # 196\n",
    "\n",
    "\n",
    "device = \"cuda\" if torch.cuda.is_available() else \"cpu\""
   ]
  },
  {
   "cell_type": "code",
   "execution_count": 7,
   "metadata": {},
   "outputs": [
    {
     "name": "stderr",
     "output_type": "stream",
     "text": [
      "/Users/Deependu/Library/Python/3.9/lib/python/site-packages/torch/nn/modules/transformer.py:282: UserWarning: enable_nested_tensor is True, but self.use_nested_tensor is False because encoder_layer.norm_first was True\n",
      "  warnings.warn(f\"enable_nested_tensor is True, but self.use_nested_tensor is False because {why_not_sparsity_fast_path}\")\n"
     ]
    }
   ],
   "source": [
    "model = ViTEncoder(\n",
    "    NUM_PATCHES,\n",
    "    IMG_SIZE,\n",
    "    PATCH_SIZE,\n",
    "    EMBED_DIM,\n",
    "    NUM_ENCODERS,\n",
    "    NUM_HEADS,\n",
    "    DROPOUT,\n",
    "    ACTIVATION,\n",
    "    IN_CHANNELS,\n",
    ").to(device)"
   ]
  },
  {
   "cell_type": "code",
   "execution_count": 8,
   "metadata": {},
   "outputs": [
    {
     "name": "stdout",
     "output_type": "stream",
     "text": [
      "torch.Size([10, 197, 768])\n"
     ]
    }
   ],
   "source": [
    "x = torch.randn(BATCH_SIZE, 3, 224, 224).to(device)\n",
    "print(model(x).shape)  # BATCH_SIZE X (NUM_PATCHES+1) X EMBED_DIM"
   ]
  }
 ],
 "metadata": {
  "kernelspec": {
   "display_name": "Python 3",
   "language": "python",
   "name": "python3"
  },
  "language_info": {
   "codemirror_mode": {
    "name": "ipython",
    "version": 3
   },
   "file_extension": ".py",
   "mimetype": "text/x-python",
   "name": "python",
   "nbconvert_exporter": "python",
   "pygments_lexer": "ipython3",
   "version": "3.9.6"
  }
 },
 "nbformat": 4,
 "nbformat_minor": 2
}
